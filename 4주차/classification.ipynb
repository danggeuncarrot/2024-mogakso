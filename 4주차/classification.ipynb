{
 "cells": [
  {
   "cell_type": "code",
   "execution_count": 37,
   "metadata": {},
   "outputs": [],
   "source": [
    "# Custom Dataset 클래스 정의\n",
    "import os\n",
    "import torch\n",
    "from torch.utils.data import Dataset\n",
    "import numpy as np\n",
    "\n",
    "\n",
    "class CustomDataset(Dataset):\n",
    "    def __init__(self, root_dir, transform=None):\n",
    "        self.root_dir = root_dir\n",
    "        self.transform = transform\n",
    "        self.file_list = []\n",
    "\n",
    "        for subdir, dirs, files in os.walk(root_dir):\n",
    "            for file in files:\n",
    "                file_path = os.path.join(subdir, file)\n",
    "                # file_list에 파일 경로를 추가\n",
    "                self.file_list.append(file_path)\n",
    "\n",
    "    def __len__(self):\n",
    "        return len(self.file_list)\n",
    "\n",
    "    def __getitem__(self, idx):\n",
    "        if torch.is_tensor(idx):\n",
    "            idx = idx.tolist()\n",
    "\n",
    "        npy_path = self.file_list[idx]\n",
    "        data = np.load(npy_path)\n",
    "        data = data.flatten()\n",
    "        # 4n-1번째 인덱스(visibility)가 0.5보다 작으면 4n-2, 4n-3, 4n-4번째 인덱스를 0으로 바꿔줌\n",
    "        # for i in range(0, len(data), 4):\n",
    "        #     if data[i + 3] < 0.5:\n",
    "        #         data[i] = 0\n",
    "        #         data[i + 1] = 0\n",
    "        #         data[i + 2] = 0\n",
    "        #         data[i + 3] = 0\n",
    "\n",
    "        # 4n-1번재 인덱스를 모두 삭제\n",
    "        data = np.delete(data, np.arange(3, len(data), 4))\n",
    "\n",
    "        # pushup, squat, pullup\n",
    "        if \"pushup\" in npy_path:\n",
    "            label = 0\n",
    "        elif \"squat\" in npy_path:\n",
    "            label = 1\n",
    "        elif \"pullup\" in npy_path:\n",
    "            label = 2\n",
    "        else:\n",
    "            label = 3\n",
    "\n",
    "        return data, label"
   ]
  },
  {
   "cell_type": "code",
   "execution_count": 4,
   "metadata": {},
   "outputs": [],
   "source": [
    "# 데이터셋 및 데이터로더 생성\n",
    "pushup_dataset = CustomDataset(root_dir=\"D:/dataset/landmark/pushup\")\n",
    "squat_dataset = CustomDataset(root_dir=\"D:/dataset/landmark/squat\")\n",
    "pullup_dataset = CustomDataset(root_dir=\"D:/dataset/landmark/pullup\")"
   ]
  },
  {
   "cell_type": "code",
   "execution_count": 6,
   "metadata": {},
   "outputs": [],
   "source": [
    "from sklearn.model_selection import train_test_split\n",
    "from torch.utils.data import DataLoader\n",
    "\n",
    "pushup_train, pushup_test = train_test_split(\n",
    "    pushup_dataset, test_size=0.2, random_state=42\n",
    ")\n",
    "squat_train, squat_test = train_test_split(\n",
    "    squat_dataset, test_size=0.2, random_state=42\n",
    ")\n",
    "pullup_train, pullup_test = train_test_split(\n",
    "    pullup_dataset, test_size=0.2, random_state=42\n",
    ")\n",
    "\n",
    "train_dataset = pushup_train + squat_train + pullup_train\n",
    "test_dataset = pushup_test + squat_test + pullup_test"
   ]
  },
  {
   "cell_type": "code",
   "execution_count": 10,
   "metadata": {},
   "outputs": [],
   "source": [
    "train_loader = DataLoader(train_dataset, batch_size=32, shuffle=True)\n",
    "test_loader = DataLoader(test_dataset, batch_size=32, shuffle=True)"
   ]
  },
  {
   "cell_type": "code",
   "execution_count": 8,
   "metadata": {},
   "outputs": [],
   "source": [
    "# 모델 생성\n",
    "import torch.nn as nn\n",
    "\n",
    "class Classification(nn.Module):\n",
    "    def __init__(self):\n",
    "        super().__init__()\n",
    "        self.fc1 = nn.Linear(99, 64)\n",
    "        self.fc2 = nn.Linear(64, 32)\n",
    "        self.fc3 = nn.Linear(32, 3)\n",
    "\n",
    "    def forward(self, x):\n",
    "        x = nn.Identity()(self.fc1(x))\n",
    "        x = nn.Identity()(self.fc2(x))\n",
    "        x = self.fc3(x)\n",
    "        return x"
   ]
  },
  {
   "cell_type": "code",
   "execution_count": 9,
   "metadata": {},
   "outputs": [],
   "source": [
    "model = Classification()"
   ]
  },
  {
   "cell_type": "code",
   "execution_count": 46,
   "metadata": {},
   "outputs": [
    {
     "data": {
      "application/vnd.jupyter.widget-view+json": {
       "model_id": "97731fe0648e4f359eb72b710b28db72",
       "version_major": 2,
       "version_minor": 0
      },
      "text/plain": [
       "  0%|          | 0/20 [00:00<?, ?it/s]"
      ]
     },
     "metadata": {},
     "output_type": "display_data"
    },
    {
     "name": "stdout",
     "output_type": "stream",
     "text": [
      "Epoch: 0, Loss: 8.299203678931818\n",
      "Epoch: 1, Loss: 7.1403109417758035\n",
      "Epoch: 2, Loss: 7.402617806526446\n",
      "Epoch: 3, Loss: 7.47745869504343\n",
      "Epoch: 4, Loss: 6.722454297845208\n",
      "Epoch: 5, Loss: 6.589048287690854\n",
      "Epoch: 6, Loss: 7.394979689555778\n",
      "Epoch: 7, Loss: 6.762654172267649\n",
      "Epoch: 8, Loss: 6.0652198990576585\n",
      "Epoch: 9, Loss: 7.665271193853315\n",
      "Epoch: 10, Loss: 7.086269318081989\n",
      "Epoch: 11, Loss: 7.88278155985471\n",
      "Epoch: 12, Loss: 7.121334216943101\n",
      "Epoch: 13, Loss: 6.163948919745298\n",
      "Epoch: 14, Loss: 6.464087330367805\n",
      "Epoch: 15, Loss: 5.752556791532086\n",
      "Epoch: 16, Loss: 6.015340110674887\n",
      "Epoch: 17, Loss: 7.407606418049358\n",
      "Epoch: 18, Loss: 5.706272137046521\n",
      "Epoch: 19, Loss: 5.368439449616066\n"
     ]
    }
   ],
   "source": [
    "# 모델 학습\n",
    "import torch.optim as optim\n",
    "from tqdm.notebook import tqdm\n",
    "\n",
    "# 모델 학습을 위한 optimizer와 loss 함수 정의\n",
    "optimizer = optim.Adam(model.parameters(), lr=0.001)\n",
    "criterion = nn.CrossEntropyLoss()\n",
    "\n",
    "# 학습 시작\n",
    "for epoch in tqdm(range(20)):\n",
    "    running_loss = 0.0\n",
    "    for data in train_loader:\n",
    "        inputs, labels = data\n",
    "        optimizer.zero_grad()\n",
    "\n",
    "        outputs = model(inputs.float())\n",
    "        loss = criterion(outputs, labels)\n",
    "        loss.backward()\n",
    "        optimizer.step()\n",
    "\n",
    "        running_loss += loss.item()\n",
    "        \n",
    "    print(f\"Epoch: {epoch}, Loss: {running_loss}\")"
   ]
  },
  {
   "cell_type": "code",
   "execution_count": 55,
   "metadata": {},
   "outputs": [],
   "source": [
    "from torch.utils.data import DataLoader\n",
    "\n",
    "new_test_dataset = CustomDataset(root_dir=\"D:/dataset/landmark/test\")\n",
    "new_test_dataset = list(test_dataset) + list(new_test_dataset)\n",
    "new_test_loader = DataLoader(new_test_dataset, batch_size=1, shuffle=True)"
   ]
  },
  {
   "cell_type": "code",
   "execution_count": 64,
   "metadata": {},
   "outputs": [
    {
     "name": "stdout",
     "output_type": "stream",
     "text": [
      "Accuracy:  0.8451636016240746\n",
      "------macro------\n",
      "Precision:  0.8178569417295705\n",
      "Recall:  0.7802666938256158\n",
      "F1 score:  0.7514408348169322\n",
      "              precision    recall  f1-score   support\n",
      "\n",
      "           0       0.90      1.00      0.95     11490\n",
      "           1       0.81      0.98      0.89     12001\n",
      "           2       0.85      0.98      0.91     11203\n",
      "           3       0.71      0.16      0.26      7176\n",
      "\n",
      "    accuracy                           0.85     41870\n",
      "   macro avg       0.82      0.78      0.75     41870\n",
      "weighted avg       0.83      0.85      0.80     41870\n",
      "\n"
     ]
    }
   ],
   "source": [
    "from sklearn import metrics\n",
    "from sklearn.metrics import f1_score, recall_score, precision_score, accuracy_score\n",
    "import torch.nn.functional as F\n",
    "\n",
    "# 모델 평가\n",
    "model.eval()\n",
    "y_true = []\n",
    "y_pred = []\n",
    "\n",
    "for data in new_test_loader:\n",
    "    inputs, labels = data\n",
    "    outputs = model(inputs.float())\n",
    "    probability = F.softmax(outputs, dim=1)\n",
    "    \n",
    "    if torch.max(probability) < 0.9999:\n",
    "        predicted = torch.tensor([3])\n",
    "    else:\n",
    "        predicted = torch.argmax(probability, 1)\n",
    "    \n",
    "    y_true.append(labels.item())\n",
    "    y_pred.append(predicted.item())\n",
    "    \n",
    "# 멀티 클래스 분류 평가 지표\n",
    "print(\"Accuracy: \", accuracy_score(y_true, y_pred))\n",
    "print(\"------macro------\")\n",
    "print(\"Precision: \", precision_score(y_true, y_pred, average='macro'))\n",
    "print(\"Recall: \", recall_score(y_true, y_pred, average='macro'))\n",
    "print(\"F1 score: \", f1_score(y_true, y_pred, average='macro'))\n",
    "\n",
    "print(metrics.classification_report(y_true, y_pred))"
   ]
  },
  {
   "cell_type": "code",
   "execution_count": 63,
   "metadata": {},
   "outputs": [
    {
     "data": {
      "image/png": "[encoded data removed]",
      "text/plain": [
       "<Figure size 640x480 with 1 Axes>"
      ]
     },
     "metadata": {},
     "output_type": "display_data"
    }
   ],
   "source": [
    "# plot confusion matrix\n",
    "from sklearn.metrics import confusion_matrix\n",
    "import matplotlib.pyplot as plt\n",
    "\n",
    "cm = confusion_matrix(y_true, y_pred)\n",
    "plt.imshow(cm, cmap=plt.cm.Blues)\n",
    "plt.xlabel(\"Predicted labels\")\n",
    "plt.ylabel(\"True labels\")\n",
    "plt.title('Confusion matrix ')\n",
    "# 수치 표시\n",
    "for i in range(4):\n",
    "    for j in range(4):\n",
    "        plt.text(j, i, cm[i, j], ha='center', va='center', color='red')\n",
    "# 클래스 이름 표시\n",
    "plt.xticks([0, 1, 2, 3], [\"pushup\", \"squat\", \"pullup\", \"none\"])\n",
    "plt.yticks([0, 1, 2, 3], [\"pushup\", \"squat\", \"pullup\", \"none\"])\n",
    "plt.show()"
   ]
  }
 ],
 "metadata": {
  "kernelspec": {
   "display_name": "Exercise_Analysis",
   "language": "python",
   "name": "python3"
  },
  "language_info": {
   "codemirror_mode": {
    "name": "ipython",
    "version": 3
   },
   "file_extension": ".py",
   "mimetype": "text/x-python",
   "name": "python",
   "nbconvert_exporter": "python",
   "pygments_lexer": "ipython3",
   "version": "3.10.13"
  }
 },
 "nbformat": 4,
 "nbformat_minor": 2
}
