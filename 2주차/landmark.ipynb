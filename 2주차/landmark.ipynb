{
 "cells": [
  {
   "cell_type": "code",
   "execution_count": null,
   "metadata": {},
   "outputs": [],
   "source": [
    "import cv2\n",
    "import mediapipe as mp\n",
    "import numpy as np\n",
    "import os"
   ]
  },
  {
   "cell_type": "code",
   "execution_count": null,
   "metadata": {},
   "outputs": [],
   "source": [
    "mp_pose = mp.solutions.pose.Pose()\n",
    "\n",
    "# 랜드마크를 추출할 폴더 경로\n",
    "# -------------------------------------\n",
    "folder_path = \"dataset\"\n",
    "# -------------------------------------\n",
    "\n",
    "file_list = os.listdir(folder_path)"
   ]
  },
  {
   "cell_type": "code",
   "execution_count": null,
   "metadata": {},
   "outputs": [],
   "source": [
    "# for index in range(len(file_list)):\n",
    "for index, video in enumerate(file_list):\n",
    "    # 폴더 내 각 동영상의 경로\n",
    "    # -------------------------------------\n",
    "    video_path = folder_path + \"/\" + video\n",
    "    # -------------------------------------\n",
    "\n",
    "    # 랜드마크 데이터셋 저장 디렉토리 설정\n",
    "    # -------------------------------------\n",
    "    output_dir = \"landmark/\" + str(index)\n",
    "    # -------------------------------------\n",
    "\n",
    "    if not os.path.exists(output_dir):\n",
    "        os.makedirs(output_dir)\n",
    "\n",
    "    # 동영상 열기\n",
    "    cap = cv2.VideoCapture(video_path)\n",
    "\n",
    "    frame_number = 0\n",
    "\n",
    "    while cap.isOpened():\n",
    "        ret, image = cap.read()\n",
    "        if not ret:\n",
    "            break\n",
    "\n",
    "        # BGR 이미지를 RGB 이미지로 변환 (Mediapipe는 RGB 이미지를 입력으로 받음)\n",
    "        image_rgb = cv2.cvtColor(image, cv2.COLOR_BGR2RGB)\n",
    "\n",
    "        # 포즈 추정 수행\n",
    "        results = mp_pose.process(image_rgb)\n",
    "\n",
    "        if results.pose_landmarks:\n",
    "            # 각 랜드마크의 좌표를 소수점 4자리까지 추출하여 데이터셋에 저장\n",
    "            data = []\n",
    "            for landmark_id, landmark in enumerate(results.pose_landmarks.landmark):\n",
    "                h, w, c = image.shape\n",
    "                x, y, z, visibility = (\n",
    "                    round(float(landmark.x), 4),\n",
    "                    round(float(landmark.y), 4),\n",
    "                    round(float(landmark.z), 4),\n",
    "                    round(float(landmark.visibility), 4),\n",
    "                )\n",
    "\n",
    "                data.append(x)\n",
    "                data.append(y)\n",
    "                data.append(z)\n",
    "                data.append(visibility)\n",
    "\n",
    "            # 데이터셋을 (33,4) 크기의 numpy 배열로 변환하여 저장\n",
    "            data = np.array(data).reshape(33, 4)\n",
    "            # 프레임 번호를 파일 이름으로 지정하여 저장\n",
    "            file_name = os.path.join(output_dir, f\"{frame_number}.npy\")\n",
    "            np.save(file_name, data)\n",
    "\n",
    "            # 이미지에 랜드마크를 시각화\n",
    "            mp.solutions.drawing_utils.draw_landmarks(\n",
    "                image, results.pose_landmarks, mp.solutions.pose.POSE_CONNECTIONS\n",
    "            )\n",
    "\n",
    "        # 결과를 화면에 출력\n",
    "        cv2.imshow(\"Pose Estimation\", image)\n",
    "        if cv2.waitKey(1) & 0xFF == 27:\n",
    "            break\n",
    "\n",
    "        frame_number += 1\n",
    "\n",
    "    cap.release()\n",
    "    cv2.destroyAllWindows()"
   ]
  }
 ],
 "metadata": {
  "kernelspec": {
   "display_name": "Python 3.9.17 ('mediapipe')",
   "language": "python",
   "name": "python3"
  },
  "language_info": {
   "codemirror_mode": {
    "name": "ipython",
    "version": 3
   },
   "file_extension": ".py",
   "mimetype": "text/x-python",
   "name": "python",
   "nbconvert_exporter": "python",
   "pygments_lexer": "ipython3",
   "version": "3.10.13"
  },
  "orig_nbformat": 4,
  "vscode": {
   "interpreter": {
    "hash": "2d1ea272de39b1b9624e15f10b4f6dc81f2041d72a8f262fa89a365e717290a0"
   }
  }
 },
 "nbformat": 4,
 "nbformat_minor": 2
}
