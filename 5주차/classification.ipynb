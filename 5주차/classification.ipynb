{
 "cells": [
  {
   "cell_type": "code",
   "execution_count": null,
   "metadata": {},
   "outputs": [],
   "source": [
    "# Custom Dataset 클래스 정의\n",
    "import os\n",
    "import torch\n",
    "from torch.utils.data import Dataset\n",
    "import numpy as np\n",
    "\n",
    "\n",
    "class CustomDataset(Dataset):\n",
    "    def __init__(self, root_dir, transform=None):\n",
    "        self.root_dir = root_dir\n",
    "        self.transform = transform\n",
    "        self.file_list = []\n",
    "\n",
    "        for subdir, dirs, files in os.walk(root_dir):\n",
    "            for file in files:\n",
    "                file_path = os.path.join(subdir, file)\n",
    "                # file_list에 파일 경로를 추가\n",
    "                self.file_list.append(file_path)\n",
    "\n",
    "    def __len__(self):\n",
    "        return len(self.file_list)\n",
    "\n",
    "    def __getitem__(self, idx):\n",
    "        if torch.is_tensor(idx):\n",
    "            idx = idx.tolist()\n",
    "\n",
    "        npy_path = self.file_list[idx]\n",
    "        data = np.load(npy_path)\n",
    "        data = data.flatten()\n",
    "        # 4n-1번째 인덱스(visibility)가 0.5보다 작으면 4n-2, 4n-3, 4n-4번째 인덱스를 0으로 바꿔줌\n",
    "        # for i in range(0, len(data), 4):\n",
    "        #     if data[i + 3] < 0.5:\n",
    "        #         data[i] = 0\n",
    "        #         data[i + 1] = 0\n",
    "        #         data[i + 2] = 0\n",
    "        #         data[i + 3] = 0\n",
    "\n",
    "        # 4n-1번재 인덱스를 모두 삭제\n",
    "        data = np.delete(data, np.arange(3, len(data), 4))\n",
    "\n",
    "        # pushup, squat, pullup\n",
    "        if \"pushup\" in npy_path:\n",
    "            label = 0\n",
    "        elif \"squat\" in npy_path:\n",
    "            label = 1\n",
    "        elif \"pullup\" in npy_path:\n",
    "            label = 2\n",
    "        else:\n",
    "            label = 3\n",
    "\n",
    "        return data, label"
   ]
  },
  {
   "cell_type": "code",
   "execution_count": null,
   "metadata": {},
   "outputs": [],
   "source": [
    "# 데이터셋 및 데이터로더 생성\n",
    "pushup_dataset = CustomDataset(root_dir=\"D:/dataset/landmark/pushup\")\n",
    "squat_dataset = CustomDataset(root_dir=\"D:/dataset/landmark/squat\")\n",
    "pullup_dataset = CustomDataset(root_dir=\"D:/dataset/landmark/pullup\")"
   ]
  },
  {
   "cell_type": "code",
   "execution_count": null,
   "metadata": {},
   "outputs": [],
   "source": [
    "from sklearn.model_selection import train_test_split\n",
    "from torch.utils.data import DataLoader\n",
    "\n",
    "pushup_train, pushup_test = train_test_split(\n",
    "    pushup_dataset, test_size=0.2, random_state=42\n",
    ")\n",
    "squat_train, squat_test = train_test_split(\n",
    "    squat_dataset, test_size=0.2, random_state=42\n",
    ")\n",
    "pullup_train, pullup_test = train_test_split(\n",
    "    pullup_dataset, test_size=0.2, random_state=42\n",
    ")\n",
    "\n",
    "train_dataset = pushup_train + squat_train + pullup_train\n",
    "test_dataset = pushup_test + squat_test + pullup_test"
   ]
  },
  {
   "cell_type": "code",
   "execution_count": null,
   "metadata": {},
   "outputs": [],
   "source": [
    "train_loader = DataLoader(train_dataset, batch_size=32, shuffle=True)\n",
    "test_loader = DataLoader(test_dataset, batch_size=32, shuffle=True)"
   ]
  },
  {
   "cell_type": "code",
   "execution_count": null,
   "metadata": {},
   "outputs": [],
   "source": [
    "# 모델 생성\n",
    "import torch.nn as nn\n",
    "\n",
    "\n",
    "class Classification(nn.Module):\n",
    "    def __init__(self):\n",
    "        super().__init__()\n",
    "        self.fc1 = nn.Linear(99, 64)\n",
    "        self.fc2 = nn.Linear(64, 32)\n",
    "        self.fc3 = nn.Linear(32, 3)\n",
    "\n",
    "    def forward(self, x):\n",
    "        x = nn.Identity()(self.fc1(x))\n",
    "        x = nn.Identity()(self.fc2(x))\n",
    "        x = self.fc3(x)\n",
    "        return x"
   ]
  },
  {
   "cell_type": "code",
   "execution_count": null,
   "metadata": {},
   "outputs": [],
   "source": [
    "model = Classification()"
   ]
  },
  {
   "cell_type": "code",
   "execution_count": null,
   "metadata": {},
   "outputs": [],
   "source": [
    "# 모델 학습\n",
    "import torch.optim as optim\n",
    "from tqdm.notebook import tqdm\n",
    "\n",
    "# 모델 학습을 위한 optimizer와 loss 함수 정의\n",
    "optimizer = optim.Adam(model.parameters(), lr=0.001)\n",
    "criterion = nn.CrossEntropyLoss()\n",
    "\n",
    "# 학습 시작\n",
    "for epoch in tqdm(range(20)):\n",
    "    running_loss = 0.0\n",
    "    for data in train_loader:\n",
    "        inputs, labels = data\n",
    "        optimizer.zero_grad()\n",
    "\n",
    "        outputs = model(inputs.float())\n",
    "        loss = criterion(outputs, labels)\n",
    "        loss.backward()\n",
    "        optimizer.step()\n",
    "\n",
    "        running_loss += loss.item()\n",
    "\n",
    "    print(f\"Epoch: {epoch}, Loss: {running_loss}\")"
   ]
  },
  {
   "cell_type": "code",
   "execution_count": null,
   "metadata": {},
   "outputs": [],
   "source": [
    "from torch.utils.data import DataLoader\n",
    "\n",
    "new_test_dataset = CustomDataset(root_dir=\"D:/dataset/landmark/test\")\n",
    "new_test_dataset = list(test_dataset) + list(new_test_dataset)\n",
    "new_test_loader = DataLoader(new_test_dataset, batch_size=1, shuffle=True)"
   ]
  },
  {
   "cell_type": "code",
   "execution_count": null,
   "metadata": {},
   "outputs": [],
   "source": [
    "from sklearn import metrics\n",
    "from sklearn.metrics import f1_score, recall_score, precision_score, accuracy_score\n",
    "import torch.nn.functional as F\n",
    "\n",
    "# 모델 평가\n",
    "model.eval()\n",
    "y_true = []\n",
    "y_pred = []\n",
    "\n",
    "for data in new_test_loader:\n",
    "    inputs, labels = data\n",
    "    outputs = model(inputs.float())\n",
    "    probability = F.softmax(outputs, dim=1)\n",
    "\n",
    "    if torch.max(probability) < 0.9999:\n",
    "        predicted = torch.tensor([3])\n",
    "    else:\n",
    "        predicted = torch.argmax(probability, 1)\n",
    "\n",
    "    y_true.append(labels.item())\n",
    "    y_pred.append(predicted.item())\n",
    "\n",
    "# 멀티 클래스 분류 평가 지표\n",
    "print(\"Accuracy: \", accuracy_score(y_true, y_pred))\n",
    "print(\"------macro------\")\n",
    "print(\"Precision: \", precision_score(y_true, y_pred, average=\"macro\"))\n",
    "print(\"Recall: \", recall_score(y_true, y_pred, average=\"macro\"))\n",
    "print(\"F1 score: \", f1_score(y_true, y_pred, average=\"macro\"))\n",
    "\n",
    "print(metrics.classification_report(y_true, y_pred))"
   ]
  },
  {
   "cell_type": "code",
   "execution_count": null,
   "metadata": {},
   "outputs": [],
   "source": [
    "# plot confusion matrix\n",
    "from sklearn.metrics import confusion_matrix\n",
    "import matplotlib.pyplot as plt\n",
    "\n",
    "cm = confusion_matrix(y_true, y_pred)\n",
    "plt.imshow(cm, cmap=plt.cm.Blues)\n",
    "plt.xlabel(\"Predicted labels\")\n",
    "plt.ylabel(\"True labels\")\n",
    "plt.title(\"Confusion matrix \")\n",
    "# 수치 표시\n",
    "for i in range(4):\n",
    "    for j in range(4):\n",
    "        plt.text(j, i, cm[i, j], ha=\"center\", va=\"center\", color=\"red\")\n",
    "# 클래스 이름 표시\n",
    "plt.xticks([0, 1, 2, 3], [\"pushup\", \"squat\", \"pullup\", \"none\"])\n",
    "plt.yticks([0, 1, 2, 3], [\"pushup\", \"squat\", \"pullup\", \"none\"])\n",
    "plt.show()"
   ]
  },
  {
   "cell_type": "code",
   "execution_count": null,
   "metadata": {},
   "outputs": [],
   "source": [
    "# 모델 저장\n",
    "torch.save(model.state_dict(), \"model0.99.pt\")"
   ]
  }
 ],
 "metadata": {
  "kernelspec": {
   "display_name": "Exercise_Analysis",
   "language": "python",
   "name": "python3"
  },
  "language_info": {
   "codemirror_mode": {
    "name": "ipython",
    "version": 3
   },
   "file_extension": ".py",
   "mimetype": "text/x-python",
   "name": "python",
   "nbconvert_exporter": "python",
   "pygments_lexer": "ipython3",
   "version": "3.10.13"
  }
 },
 "nbformat": 4,
 "nbformat_minor": 2
}
